{
  "nbformat": 4,
  "nbformat_minor": 0,
  "metadata": {
    "colab": {
      "provenance": [],
      "include_colab_link": true
    },
    "kernelspec": {
      "name": "python3",
      "display_name": "Python 3"
    },
    "language_info": {
      "name": "python"
    },
    "accelerator": "GPU",
    "gpuClass": "standard"
  },
  "cells": [
    {
      "cell_type": "markdown",
      "metadata": {
        "id": "view-in-github",
        "colab_type": "text"
      },
      "source": [
        "<a href=\"https://colab.research.google.com/github/kgogadi/Image-Classification-System-for-Waste-Sorting/blob/main/Planeteer.ipynb\" target=\"_parent\"><img src=\"https://colab.research.google.com/assets/colab-badge.svg\" alt=\"Open In Colab\"/></a>"
      ]
    },
    {
      "cell_type": "code",
      "source": [
        "!pip install opendatasets"
      ],
      "metadata": {
        "id": "6JovvuqaJs5H",
        "colab": {
          "base_uri": "https://localhost:8080/"
        },
        "outputId": "fdfaf7e2-c2e3-4aa6-8b43-d36f05ab3c23"
      },
      "execution_count": null,
      "outputs": [
        {
          "output_type": "stream",
          "name": "stdout",
          "text": [
            "Looking in indexes: https://pypi.org/simple, https://us-python.pkg.dev/colab-wheels/public/simple/\n",
            "Collecting opendatasets\n",
            "  Downloading opendatasets-0.1.22-py3-none-any.whl (15 kB)\n",
            "Requirement already satisfied: kaggle in /usr/local/lib/python3.10/dist-packages (from opendatasets) (1.5.13)\n",
            "Requirement already satisfied: click in /usr/local/lib/python3.10/dist-packages (from opendatasets) (8.1.3)\n",
            "Requirement already satisfied: tqdm in /usr/local/lib/python3.10/dist-packages (from opendatasets) (4.65.0)\n",
            "Requirement already satisfied: python-slugify in /usr/local/lib/python3.10/dist-packages (from kaggle->opendatasets) (8.0.1)\n",
            "Requirement already satisfied: urllib3 in /usr/local/lib/python3.10/dist-packages (from kaggle->opendatasets) (1.26.15)\n",
            "Requirement already satisfied: python-dateutil in /usr/local/lib/python3.10/dist-packages (from kaggle->opendatasets) (2.8.2)\n",
            "Requirement already satisfied: certifi in /usr/local/lib/python3.10/dist-packages (from kaggle->opendatasets) (2022.12.7)\n",
            "Requirement already satisfied: six>=1.10 in /usr/local/lib/python3.10/dist-packages (from kaggle->opendatasets) (1.16.0)\n",
            "Requirement already satisfied: requests in /usr/local/lib/python3.10/dist-packages (from kaggle->opendatasets) (2.27.1)\n",
            "Requirement already satisfied: text-unidecode>=1.3 in /usr/local/lib/python3.10/dist-packages (from python-slugify->kaggle->opendatasets) (1.3)\n",
            "Requirement already satisfied: idna<4,>=2.5 in /usr/local/lib/python3.10/dist-packages (from requests->kaggle->opendatasets) (3.4)\n",
            "Requirement already satisfied: charset-normalizer~=2.0.0 in /usr/local/lib/python3.10/dist-packages (from requests->kaggle->opendatasets) (2.0.12)\n",
            "Installing collected packages: opendatasets\n",
            "Successfully installed opendatasets-0.1.22\n"
          ]
        }
      ]
    },
    {
      "cell_type": "code",
      "execution_count": null,
      "metadata": {
        "id": "AFTqxKuLES7M"
      },
      "outputs": [],
      "source": [
        "import opendatasets as od\n",
        "import pandas as pd\n",
        "import os\n",
        "import subprocess as sbp\n",
        "import shutil"
      ]
    },
    {
      "cell_type": "code",
      "source": [
        "od.download(\"https://www.kaggle.com/datasets/mostafaabla/garbage-classification\")"
      ],
      "metadata": {
        "id": "rLDkaMkJK1h_",
        "colab": {
          "base_uri": "https://localhost:8080/"
        },
        "outputId": "2d88540a-b2b8-4a91-fae9-fb8131fe823c"
      },
      "execution_count": null,
      "outputs": [
        {
          "output_type": "stream",
          "name": "stdout",
          "text": [
            "Please provide your Kaggle credentials to download this dataset. Learn more: http://bit.ly/kaggle-creds\n",
            "Your Kaggle username:"
          ]
        }
      ]
    },
    {
      "cell_type": "code",
      "source": [
        "old_name = r\"/content/garbage-classification\"\n",
        "new_name = r\"/content/trash-hazardous-organic-recyclable-classification\"\n",
        "os.rename(old_name, new_name)"
      ],
      "metadata": {
        "id": "jcrC5rmVPH63"
      },
      "execution_count": null,
      "outputs": []
    },
    {
      "cell_type": "code",
      "source": [
        "old_name = r\"/content/trash-hazardous-organic-recyclable-classification/garbage_classification/battery\"\n",
        "new_name = r\"/content/trash-hazardous-organic-recyclable-classification/garbage_classification/hazardous\"\n",
        "os.rename(old_name, new_name)"
      ],
      "metadata": {
        "id": "F_D2SOZNpGFK"
      },
      "execution_count": null,
      "outputs": []
    },
    {
      "cell_type": "code",
      "source": [
        "old_name = r\"/content/trash-hazardous-organic-recyclable-classification/garbage_classification/biological\"\n",
        "new_name = r\"/content/trash-hazardous-organic-recyclable-classification/garbage_classification/organic\"\n",
        "os.rename(old_name, new_name)"
      ],
      "metadata": {
        "id": "IVkVp_IjhQME"
      },
      "execution_count": null,
      "outputs": []
    },
    {
      "cell_type": "code",
      "source": [
        "old_name = r\"/content/trash-hazardous-organic-recyclable-classification/garbage_classification/brown-glass\"\n",
        "new_name = r\"/content/trash-hazardous-organic-recyclable-classification/garbage_classification/recyclable\"\n",
        "os.rename(old_name, new_name)"
      ],
      "metadata": {
        "id": "4M3Mr3rnhaME"
      },
      "execution_count": null,
      "outputs": []
    },
    {
      "cell_type": "code",
      "source": [
        "#count items in each category: first dataset\n",
        "path = '/content/trash-hazardous-organic-recyclable-classification/garbage_classification'\n",
        "\n",
        "total = 0\n",
        "for sub_dir in os.listdir(path):\n",
        "    target_dir = path + '/' + sub_dir\n",
        "    files = os.listdir(target_dir)\n",
        "    count = len(files)\n",
        "    total += count\n",
        "    print(f'{sub_dir}: {count}')\n",
        "print(f'Total: {total}')"
      ],
      "metadata": {
        "id": "dO_7LSk98re4"
      },
      "execution_count": null,
      "outputs": []
    },
    {
      "cell_type": "code",
      "source": [
        "#Remove files from first data set: Paper\n",
        "from IPython.lib.display import isfile\n",
        "import os.path\n",
        "\n",
        "path = '/content/trash-hazardous-organic-recyclable-classification/garbage_classification/paper'\n",
        "print(type(path))\n",
        "\n",
        "files=os.listdir(path)\n",
        "\n",
        "for n in files[132::1]:\n",
        "  print(n)\n",
        "  os.remove(path+'/'+n)\n",
        "\n",
        "#924\n",
        "#132\n",
        "#308\n",
        "\n"
      ],
      "metadata": {
        "id": "lvR7k0KXwOJV"
      },
      "execution_count": null,
      "outputs": []
    },
    {
      "cell_type": "code",
      "source": [
        "#count items in Paper\n",
        "path = '/content/trash-hazardous-organic-recyclable-classification/garbage_classification/paper'\n",
        "\n",
        "total = 0\n",
        "\n",
        "files = os.listdir(path)\n",
        "for x in files:\n",
        "    total += 1\n",
        "print(total)"
      ],
      "metadata": {
        "id": "i1ZS62tpGUcq"
      },
      "execution_count": null,
      "outputs": []
    },
    {
      "cell_type": "code",
      "source": [
        "#Remove files from first data set: Plastic\n",
        "path = '/content/trash-hazardous-organic-recyclable-classification/garbage_classification/plastic'\n",
        "\n",
        "files=os.listdir(path)\n",
        "\n",
        "for n in files[132::1]:\n",
        "  # print(n)\n",
        "  os.remove(path+'/'+n)\n",
        "\n",
        "#924\n",
        "#132\n",
        "#308\n",
        "#count items in Plastic\n",
        "path = '/content/trash-hazardous-organic-recyclable-classification/garbage_classification/plastic'\n",
        "\n",
        "total = 0\n",
        "\n",
        "files = os.listdir(path)\n",
        "for x in files:\n",
        "    total += 1\n",
        "print(total)"
      ],
      "metadata": {
        "id": "A0tzll9yHAbB"
      },
      "execution_count": null,
      "outputs": []
    },
    {
      "cell_type": "code",
      "source": [
        "#Remove files from first data set: Cardboard\n",
        "path = '/content/trash-hazardous-organic-recyclable-classification/garbage_classification/cardboard'\n",
        "\n",
        "files=os.listdir(path)\n",
        "\n",
        "for n in files[132::1]:\n",
        "  # print(n)\n",
        "  os.remove(path+'/'+n)\n",
        "\n",
        "#924\n",
        "#132\n",
        "#308\n",
        "#count items in Cardboard\n",
        "path = '/content/trash-hazardous-organic-recyclable-classification/garbage_classification/cardboard'\n",
        "\n",
        "total = 0\n",
        "\n",
        "files = os.listdir(path)\n",
        "for x in files:\n",
        "    total += 1\n",
        "print(total)"
      ],
      "metadata": {
        "id": "5_ak41yQHTI8"
      },
      "execution_count": null,
      "outputs": []
    },
    {
      "cell_type": "code",
      "source": [
        "#Remove files from first data set: Green-glass\n",
        "path = '/content/trash-hazardous-organic-recyclable-classification/garbage_classification/green-glass'\n",
        "\n",
        "files=os.listdir(path)\n",
        "\n",
        "for n in files[132::1]:\n",
        "  # print(n)\n",
        "  os.remove(path+'/'+n)\n",
        "\n",
        "#924\n",
        "#132\n",
        "#308\n",
        "#count items in Green-glass\n",
        "path = '/content/trash-hazardous-organic-recyclable-classification/garbage_classification/green-glass'\n",
        "\n",
        "total = 0\n",
        "\n",
        "files = os.listdir(path)\n",
        "for x in files:\n",
        "    total += 1\n",
        "print(total)"
      ],
      "metadata": {
        "id": "_uY6HVFGHYiL"
      },
      "execution_count": null,
      "outputs": []
    },
    {
      "cell_type": "code",
      "source": [
        "#Remove files from first data set: Metal\n",
        "path = '/content/trash-hazardous-organic-recyclable-classification/garbage_classification/metal'\n",
        "\n",
        "files=os.listdir(path)\n",
        "\n",
        "for n in files[132::1]:\n",
        "  # print(n)\n",
        "  os.remove(path+'/'+n)\n",
        "\n",
        "#924\n",
        "#132\n",
        "#308\n",
        "#count items in Metal\n",
        "path = '/content/trash-hazardous-organic-recyclable-classification/garbage_classification/metal'\n",
        "\n",
        "total = 0\n",
        "\n",
        "files = os.listdir(path)\n",
        "for x in files:\n",
        "    total += 1\n",
        "print(total)"
      ],
      "metadata": {
        "id": "PpE1utyIHeWN"
      },
      "execution_count": null,
      "outputs": []
    },
    {
      "cell_type": "code",
      "source": [
        "#Remove files from first data set: Recyclable\n",
        "path = '/content/trash-hazardous-organic-recyclable-classification/garbage_classification/recyclable'\n",
        "\n",
        "files=os.listdir(path)\n",
        "\n",
        "for n in files[132::1]:\n",
        "  # print(n)\n",
        "  os.remove(path+'/'+n)\n",
        "\n",
        "#924\n",
        "#132\n",
        "#308\n",
        "#count items in Recyclable\n",
        "path = '/content/trash-hazardous-organic-recyclable-classification/garbage_classification/recyclable'\n",
        "\n",
        "total = 0\n",
        "\n",
        "files = os.listdir(path)\n",
        "for x in files:\n",
        "    total += 1\n",
        "print(total)"
      ],
      "metadata": {
        "id": "eaSl_TpEHiAd"
      },
      "execution_count": null,
      "outputs": []
    },
    {
      "cell_type": "code",
      "source": [
        "#Remove files from first data set: white-glass\n",
        "path = '/content/trash-hazardous-organic-recyclable-classification/garbage_classification/white-glass'\n",
        "\n",
        "files=os.listdir(path)\n",
        "\n",
        "for n in files[132::1]:\n",
        "  # print(n)\n",
        "  os.remove(path+'/'+n)\n",
        "\n",
        "#924\n",
        "#132\n",
        "#308\n",
        "#count items in white-glass\n",
        "path = '/content/trash-hazardous-organic-recyclable-classification/garbage_classification/white-glass'\n",
        "\n",
        "total = 0\n",
        "\n",
        "files = os.listdir(path)\n",
        "for x in files:\n",
        "    total += 1\n",
        "print(total)"
      ],
      "metadata": {
        "id": "89eF6fhoHn5t"
      },
      "execution_count": null,
      "outputs": []
    },
    {
      "cell_type": "code",
      "source": [
        "#Remove files from first data set: clothes\n",
        "path = '/content/trash-hazardous-organic-recyclable-classification/garbage_classification/clothes'\n",
        "\n",
        "files=os.listdir(path)\n",
        "\n",
        "for n in files[308::1]:\n",
        "  # print(n)\n",
        "  os.remove(path+'/'+n)\n",
        "\n",
        "#924\n",
        "#132\n",
        "#308\n",
        "#count items in clothes\n",
        "path = '/content/trash-hazardous-organic-recyclable-classification/garbage_classification/clothes'\n",
        "\n",
        "total = 0\n",
        "\n",
        "files = os.listdir(path)\n",
        "for x in files:\n",
        "    total += 1\n",
        "print(total)"
      ],
      "metadata": {
        "id": "JwdOQCudHr7x"
      },
      "execution_count": null,
      "outputs": []
    },
    {
      "cell_type": "code",
      "source": [
        "#Remove files from first data set: Shoes\n",
        "path = '/content/trash-hazardous-organic-recyclable-classification/garbage_classification/shoes'\n",
        "\n",
        "files=os.listdir(path)\n",
        "\n",
        "for n in files[308::1]:\n",
        "  # print(n)\n",
        "  os.remove(path+'/'+n)\n",
        "\n",
        "#924\n",
        "#132\n",
        "#308\n",
        "#count items in Shoes\n",
        "path = '/content/trash-hazardous-organic-recyclable-classification/garbage_classification/shoes'\n",
        "\n",
        "total = 0\n",
        "\n",
        "files = os.listdir(path)\n",
        "for x in files:\n",
        "    total += 1\n",
        "print(total)"
      ],
      "metadata": {
        "id": "uHkMxCVdHx7X"
      },
      "execution_count": null,
      "outputs": []
    },
    {
      "cell_type": "code",
      "source": [
        "#Remove files from first data set: Trash\n",
        "path = '/content/trash-hazardous-organic-recyclable-classification/garbage_classification/trash'\n",
        "\n",
        "files=os.listdir(path)\n",
        "\n",
        "for n in files[308::1]:\n",
        "  # print(n)\n",
        "  os.remove(path+'/'+n)\n",
        "\n",
        "#924\n",
        "#132\n",
        "#308\n",
        "#count items in Trash\n",
        "path = '/content/trash-hazardous-organic-recyclable-classification/garbage_classification/trash'\n",
        "\n",
        "total = 0\n",
        "\n",
        "files = os.listdir(path)\n",
        "for x in files:\n",
        "    total += 1\n",
        "print(total)"
      ],
      "metadata": {
        "id": "Ckwt86JSH13B"
      },
      "execution_count": null,
      "outputs": []
    },
    {
      "cell_type": "code",
      "source": [
        "#Remove files from first data set: Hazardous\n",
        "path = '/content/trash-hazardous-organic-recyclable-classification/garbage_classification/hazardous'\n",
        "\n",
        "files=os.listdir(path)\n",
        "\n",
        "for n in files[924::1]:\n",
        "  # print(n)\n",
        "  os.remove(path+'/'+n)\n",
        "\n",
        "#924\n",
        "#132\n",
        "#308\n",
        "#count items in Hazardous\n",
        "path = '/content/trash-hazardous-organic-recyclable-classification/garbage_classification/hazardous'\n",
        "\n",
        "total = 0\n",
        "\n",
        "files = os.listdir(path)\n",
        "for x in files:\n",
        "    total += 1\n",
        "print(total)"
      ],
      "metadata": {
        "id": "VlDavTyzH56d"
      },
      "execution_count": null,
      "outputs": []
    },
    {
      "cell_type": "code",
      "source": [
        "#Remove files from first data set: Organic\n",
        "path = '/content/trash-hazardous-organic-recyclable-classification/garbage_classification/organic'\n",
        "\n",
        "files=os.listdir(path)\n",
        "\n",
        "for n in files[924::1]:\n",
        "  # print(n)\n",
        "  os.remove(path+'/'+n)\n",
        "\n",
        "#924\n",
        "#132\n",
        "#308\n",
        "#count items in Organic\n",
        "path = '/content/trash-hazardous-organic-recyclable-classification/garbage_classification/organic'\n",
        "\n",
        "total = 0\n",
        "\n",
        "files = os.listdir(path)\n",
        "for x in files:\n",
        "    total += 1\n",
        "print(total)"
      ],
      "metadata": {
        "id": "U14S4fLPH_nQ"
      },
      "execution_count": null,
      "outputs": []
    },
    {
      "cell_type": "code",
      "source": [
        "#count items in each category: first dataset\n",
        "path = '/content/trash-hazardous-organic-recyclable-classification/garbage_classification'\n",
        "\n",
        "total = 0\n",
        "for sub_dir in os.listdir(path):\n",
        "    target_dir = path + '/' + sub_dir\n",
        "    files = os.listdir(target_dir)\n",
        "    count = len(files)\n",
        "    total += count\n",
        "    print(f'{sub_dir}: {count}')\n",
        "print(f'Total: {total}')"
      ],
      "metadata": {
        "id": "d-RJl3YtILiW"
      },
      "execution_count": null,
      "outputs": []
    },
    {
      "cell_type": "code",
      "source": [
        "# Trash (first dataset)\n",
        "current_folder = r\"/content/trash-hazardous-organic-recyclable-classification/garbage_classification\"\n",
        "\n",
        "# list of folders to be merged\n",
        "list_dir = ['clothes', 'shoes']\n",
        "\n",
        "# enumerate on list_dir to get the\n",
        "# content of all the folders ans store it in a dictionary\n",
        "content_list = {}\n",
        "for index, val in enumerate(list_dir):\n",
        "    path = os.path.join(current_folder, val)\n",
        "    content_list[ list_dir[index] ] = os.listdir(path)"
      ],
      "metadata": {
        "id": "JXpdYF05PkGM"
      },
      "execution_count": null,
      "outputs": []
    },
    {
      "cell_type": "code",
      "source": [
        "# loop through the list of folders: Trash\n",
        "for sub_dir in content_list:\n",
        "\n",
        "\t# loop through the contents of the\n",
        "\t# list of folders\n",
        "\tfor contents in content_list[sub_dir]:\n",
        "\n",
        "\t\t# make the path of the content to move\n",
        "\t\tpath_to_content = sub_dir + \"/\" + contents\n",
        "\n",
        "\t\t# make the path with the current folder\n",
        "\t\tdir_to_move = os.path.join(current_folder, path_to_content )\n",
        "\n",
        "\t\t# move the file\n",
        "\t\tshutil.move(dir_to_move, '/content/trash-hazardous-organic-recyclable-classification/garbage_classification/trash')\n"
      ],
      "metadata": {
        "id": "N6AZubFfkx8W"
      },
      "execution_count": null,
      "outputs": []
    },
    {
      "cell_type": "code",
      "source": [
        "#delete old folders\n",
        "shutil.rmtree('/content/trash-hazardous-organic-recyclable-classification/garbage_classification/clothes')\n",
        "shutil.rmtree('/content/trash-hazardous-organic-recyclable-classification/garbage_classification/shoes')"
      ],
      "metadata": {
        "id": "VCa29l0Im4is"
      },
      "execution_count": null,
      "outputs": []
    },
    {
      "cell_type": "code",
      "source": [
        "# Recyclable (first dataset)\n",
        "current_folder = r\"/content/trash-hazardous-organic-recyclable-classification/garbage_classification\"\n",
        "\n",
        "# list of folders to be merged\n",
        "list_dir = ['cardboard', 'paper', 'plastic', 'white-glass', 'green-glass', 'metal']\n",
        "\n",
        "# enumerate on list_dir to get the\n",
        "# content of all the folders ans store it in a dictionary\n",
        "content_list = {}\n",
        "for index, val in enumerate(list_dir):\n",
        "    path = os.path.join(current_folder, val)\n",
        "    content_list[ list_dir[index] ] = os.listdir(path)"
      ],
      "metadata": {
        "id": "79hkD7Y5luh1"
      },
      "execution_count": null,
      "outputs": []
    },
    {
      "cell_type": "code",
      "source": [
        "# loop through the list of folders: Recyclable\n",
        "for sub_dir in content_list:\n",
        "\n",
        "\t# loop through the contents of the\n",
        "\t# list of folders\n",
        "\tfor contents in content_list[sub_dir]:\n",
        "\n",
        "\t\t# make the path of the content to move\n",
        "\t\tpath_to_content = sub_dir + \"/\" + contents\n",
        "\n",
        "\t\t# make the path with the current folder\n",
        "\t\tdir_to_move = os.path.join(current_folder, path_to_content )\n",
        "\n",
        "\t\t# move the file\n",
        "\t\tshutil.move(dir_to_move, '/content/trash-hazardous-organic-recyclable-classification/garbage_classification/recyclable')"
      ],
      "metadata": {
        "id": "s3XpI3cEnwi7"
      },
      "execution_count": null,
      "outputs": []
    },
    {
      "cell_type": "code",
      "source": [
        "#delete old folders\n",
        "shutil.rmtree('/content/trash-hazardous-organic-recyclable-classification/garbage_classification/cardboard')\n",
        "shutil.rmtree('/content/trash-hazardous-organic-recyclable-classification/garbage_classification/paper')\n",
        "shutil.rmtree('/content/trash-hazardous-organic-recyclable-classification/garbage_classification/plastic')\n",
        "shutil.rmtree('/content/trash-hazardous-organic-recyclable-classification/garbage_classification/white-glass')\n",
        "shutil.rmtree('/content/trash-hazardous-organic-recyclable-classification/garbage_classification/green-glass')\n",
        "shutil.rmtree('/content/trash-hazardous-organic-recyclable-classification/garbage_classification/metal')"
      ],
      "metadata": {
        "id": "yklffG8xnUXe"
      },
      "execution_count": null,
      "outputs": []
    },
    {
      "cell_type": "code",
      "source": [
        "#count items in each category: first dataset\n",
        "path = '/content/trash-hazardous-organic-recyclable-classification/garbage_classification'\n",
        "\n",
        "total = 0\n",
        "for sub_dir in os.listdir(path):\n",
        "    target_dir = path + '/' + sub_dir\n",
        "    files = os.listdir(target_dir)\n",
        "    count = len(files)\n",
        "    total += count\n",
        "    print(f'{sub_dir}: {count}')\n",
        "print(f'Total: {total}')"
      ],
      "metadata": {
        "id": "zHFr7CEcpImq"
      },
      "execution_count": null,
      "outputs": []
    },
    {
      "cell_type": "code",
      "source": [
        "#second dataset\n",
        "od.download(\"https://www.kaggle.com/datasets/mostafaabla/garbage-classification\")"
      ],
      "metadata": {
        "id": "7hBZap9VVycP"
      },
      "execution_count": null,
      "outputs": []
    },
    {
      "cell_type": "code",
      "source": [
        "old_name = r\"/content/garbage-classification\"\n",
        "new_name = r\"/content/trash-recyclable-classification\"\n",
        "os.rename(old_name, new_name)"
      ],
      "metadata": {
        "id": "aK0sDYzyV5O-"
      },
      "execution_count": null,
      "outputs": []
    },
    {
      "cell_type": "code",
      "source": [
        "old_name = r\"/content/trash-recyclable-classification/garbage_classification/brown-glass\"\n",
        "new_name = r\"/content/trash-recyclable-classification/garbage_classification/recyclable\"\n",
        "os.rename(old_name, new_name)"
      ],
      "metadata": {
        "id": "BoDfc8RKr5xP"
      },
      "execution_count": null,
      "outputs": []
    },
    {
      "cell_type": "code",
      "source": [
        "#count items in each category: Trash/Recyclable 2nd DATASET\n",
        "path = '/content/trash-recyclable-classification/garbage_classification'\n",
        "\n",
        "total = 0\n",
        "for sub_dir in os.listdir(path):\n",
        "    target_dir = path + '/' + sub_dir\n",
        "    files = os.listdir(target_dir)\n",
        "    count = len(files)\n",
        "    total += count\n",
        "    print(f'{sub_dir}: {count}')\n",
        "print(f'Total: {total}')"
      ],
      "metadata": {
        "id": "4qDOEcViWQSb"
      },
      "execution_count": null,
      "outputs": []
    },
    {
      "cell_type": "code",
      "source": [
        "#Remove files from second data set: Paper\n",
        "path = '/content/trash-recyclable-classification/garbage_classification/paper'\n",
        "\n",
        "files=os.listdir(path)\n",
        "\n",
        "for n in files[132::1]:\n",
        "  # print(n)\n",
        "  os.remove(path+'/'+n)\n",
        "\n",
        "\n",
        "#count items in Paper\n",
        "path = '/content/trash-recyclable-classification/garbage_classification/paper'\n",
        "\n",
        "total = 0\n",
        "\n",
        "files = os.listdir(path)\n",
        "for x in files:\n",
        "    total += 1\n",
        "print(total)"
      ],
      "metadata": {
        "id": "VbOmNaaypzKu"
      },
      "execution_count": null,
      "outputs": []
    },
    {
      "cell_type": "code",
      "source": [
        "#Remove files from second data set: Plastic\n",
        "path = '/content/trash-recyclable-classification/garbage_classification/plastic'\n",
        "\n",
        "files=os.listdir(path)\n",
        "\n",
        "for n in files[132::1]:\n",
        "  # print(n)\n",
        "  os.remove(path+'/'+n)\n",
        "\n",
        "\n",
        "#count items in Plastic\n",
        "path = '/content/trash-recyclable-classification/garbage_classification/plastic'\n",
        "\n",
        "total = 0\n",
        "\n",
        "files = os.listdir(path)\n",
        "for x in files:\n",
        "    total += 1\n",
        "print(total)"
      ],
      "metadata": {
        "id": "M9IKFuEgqijM"
      },
      "execution_count": null,
      "outputs": []
    },
    {
      "cell_type": "code",
      "source": [
        "#Remove files from second data set: Cardboard\n",
        "path = '/content/trash-recyclable-classification/garbage_classification/cardboard'\n",
        "\n",
        "files=os.listdir(path)\n",
        "\n",
        "for n in files[132::1]:\n",
        "  # print(n)\n",
        "  os.remove(path+'/'+n)\n",
        "\n",
        "\n",
        "#count items in Cardboard\n",
        "path = '/content/trash-recyclable-classification/garbage_classification/cardboard'\n",
        "\n",
        "total = 0\n",
        "\n",
        "files = os.listdir(path)\n",
        "for x in files:\n",
        "    total += 1\n",
        "print(total)"
      ],
      "metadata": {
        "id": "_TTY0o7Cq50T"
      },
      "execution_count": null,
      "outputs": []
    },
    {
      "cell_type": "code",
      "source": [
        "#Remove files from second data set: Green-glass\n",
        "path = '/content/trash-recyclable-classification/garbage_classification/green-glass'\n",
        "\n",
        "files=os.listdir(path)\n",
        "\n",
        "for n in files[132::1]:\n",
        "  # print(n)\n",
        "  os.remove(path+'/'+n)\n",
        "\n",
        "\n",
        "#count items in Green-glass\n",
        "path = '/content/trash-recyclable-classification/garbage_classification/green-glass'\n",
        "\n",
        "total = 0\n",
        "\n",
        "files = os.listdir(path)\n",
        "for x in files:\n",
        "    total += 1\n",
        "print(total)"
      ],
      "metadata": {
        "id": "ffPj_zKErMpp"
      },
      "execution_count": null,
      "outputs": []
    },
    {
      "cell_type": "code",
      "source": [
        "#Remove files from second data set: Metal\n",
        "path = '/content/trash-recyclable-classification/garbage_classification/metal'\n",
        "\n",
        "files=os.listdir(path)\n",
        "\n",
        "for n in files[132::1]:\n",
        "  # print(n)\n",
        "  os.remove(path+'/'+n)\n",
        "\n",
        "#924\n",
        "#132\n",
        "#308\n",
        "#count items in Metal\n",
        "path = '/content/trash-recyclable-classification/garbage_classification/metal'\n",
        "\n",
        "total = 0\n",
        "\n",
        "files = os.listdir(path)\n",
        "for x in files:\n",
        "    total += 1\n",
        "print(total)"
      ],
      "metadata": {
        "id": "hlmF8wQTrexv"
      },
      "execution_count": null,
      "outputs": []
    },
    {
      "cell_type": "code",
      "source": [
        "#Remove files from second data set: Recyclable\n",
        "path = '/content/trash-recyclable-classification/garbage_classification/recyclable'\n",
        "\n",
        "files=os.listdir(path)\n",
        "\n",
        "for n in files[132::1]:\n",
        "  # print(n)\n",
        "  os.remove(path+'/'+n)\n",
        "\n",
        "#924\n",
        "#132\n",
        "#308\n",
        "#count items in Recyclable\n",
        "path = '/content/trash-recyclable-classification/garbage_classification/recyclable'\n",
        "\n",
        "total = 0\n",
        "\n",
        "files = os.listdir(path)\n",
        "for x in files:\n",
        "    total += 1\n",
        "print(total)"
      ],
      "metadata": {
        "id": "FYeyp3kTrpIM"
      },
      "execution_count": null,
      "outputs": []
    },
    {
      "cell_type": "code",
      "source": [
        "#Remove files from second data set: White-glass\n",
        "path = '/content/trash-recyclable-classification/garbage_classification/white-glass'\n",
        "\n",
        "files=os.listdir(path)\n",
        "\n",
        "for n in files[132::1]:\n",
        "  # print(n)\n",
        "  os.remove(path+'/'+n)\n",
        "\n",
        "\n",
        "#count items in white-glass\n",
        "path = '/content/trash-recyclable-classification/garbage_classification/white-glass'\n",
        "\n",
        "total = 0\n",
        "\n",
        "files = os.listdir(path)\n",
        "for x in files:\n",
        "    total += 1\n",
        "print(total)"
      ],
      "metadata": {
        "id": "dnX5xVrUs1Ey"
      },
      "execution_count": null,
      "outputs": []
    },
    {
      "cell_type": "code",
      "source": [
        "#Remove files from second data set: Clothes\n",
        "path = '/content/trash-recyclable-classification/garbage_classification/clothes'\n",
        "\n",
        "files=os.listdir(path)\n",
        "\n",
        "for n in files[308::1]:\n",
        "  # print(n)\n",
        "  os.remove(path+'/'+n)\n",
        "\n",
        "\n",
        "#count items in Clothes\n",
        "path = '/content/trash-recyclable-classification/garbage_classification/clothes'\n",
        "\n",
        "total = 0\n",
        "\n",
        "files = os.listdir(path)\n",
        "for x in files:\n",
        "    total += 1\n",
        "print(total)"
      ],
      "metadata": {
        "id": "rwz7puUjtH82"
      },
      "execution_count": null,
      "outputs": []
    },
    {
      "cell_type": "code",
      "source": [
        "#Remove files from second data set: Shoes\n",
        "path = '/content/trash-recyclable-classification/garbage_classification/shoes'\n",
        "\n",
        "files=os.listdir(path)\n",
        "\n",
        "for n in files[308::1]:\n",
        "  # print(n)\n",
        "  os.remove(path+'/'+n)\n",
        "\n",
        "\n",
        "#count items in Shoes\n",
        "path = '/content/trash-recyclable-classification/garbage_classification/shoes'\n",
        "\n",
        "total = 0\n",
        "\n",
        "files = os.listdir(path)\n",
        "for x in files:\n",
        "    total += 1\n",
        "print(total)"
      ],
      "metadata": {
        "id": "MBKpmYSAtRYR"
      },
      "execution_count": null,
      "outputs": []
    },
    {
      "cell_type": "code",
      "source": [
        "#Remove files from second data set: Trash\n",
        "path = '/content/trash-recyclable-classification/garbage_classification/trash'\n",
        "\n",
        "files=os.listdir(path)\n",
        "\n",
        "for n in files[308::1]:\n",
        "  # print(n)\n",
        "  os.remove(path+'/'+n)\n",
        "\n",
        "\n",
        "#count items in Trash\n",
        "path = '/content/trash-recyclable-classification/garbage_classification/trash'\n",
        "\n",
        "total = 0\n",
        "\n",
        "files = os.listdir(path)\n",
        "for x in files:\n",
        "    total += 1\n",
        "print(total)"
      ],
      "metadata": {
        "id": "7ScKg9X-tcnc"
      },
      "execution_count": null,
      "outputs": []
    },
    {
      "cell_type": "code",
      "source": [
        "#count items in each category\n",
        "path = '/content/trash-recyclable-classification/garbage_classification'\n",
        "\n",
        "total = 0\n",
        "for sub_dir in os.listdir(path):\n",
        "    target_dir = path + '/' + sub_dir\n",
        "    files = os.listdir(target_dir)\n",
        "    count = len(files)\n",
        "    total += count\n",
        "    print(f'{sub_dir}: {count}')\n",
        "print(f'Total: {total}')"
      ],
      "metadata": {
        "id": "5EVFpmertzNL"
      },
      "execution_count": null,
      "outputs": []
    },
    {
      "cell_type": "code",
      "source": [
        "# Second dataset Trash\n",
        "current_folder = r\"/content/trash-recyclable-classification/garbage_classification\"\n",
        "\n",
        "# list of folders to be merged\n",
        "list_dir = ['clothes', 'shoes']\n",
        "\n",
        "# enumerate on list_dir to get the\n",
        "# content of all the folders ans store it in a dictionary\n",
        "content_list = {}\n",
        "for index, val in enumerate(list_dir):\n",
        "    path = os.path.join(current_folder, val)\n",
        "    content_list[ list_dir[index] ] = os.listdir(path)"
      ],
      "metadata": {
        "id": "dyYUecvxuBHv"
      },
      "execution_count": null,
      "outputs": []
    },
    {
      "cell_type": "code",
      "source": [
        "# loop through the list of folders: Trash (second dataset)\n",
        "for sub_dir in content_list:\n",
        "\n",
        "\t# loop through the contents of the\n",
        "\t# list of folders\n",
        "\tfor contents in content_list[sub_dir]:\n",
        "\n",
        "\t\t# make the path of the content to move\n",
        "\t\tpath_to_content = sub_dir + \"/\" + contents\n",
        "\n",
        "\t\t# make the path with the current folder\n",
        "\t\tdir_to_move = os.path.join(current_folder, path_to_content )\n",
        "\n",
        "\t\t# move the file\n",
        "\t\tshutil.move(dir_to_move, '/content/trash-recyclable-classification/garbage_classification/trash')"
      ],
      "metadata": {
        "id": "CPOap1YIuN38"
      },
      "execution_count": null,
      "outputs": []
    },
    {
      "cell_type": "code",
      "source": [
        "#delete old second dataset folders: clothes and shoes\n",
        "shutil.rmtree('/content/trash-recyclable-classification/garbage_classification/clothes')\n",
        "shutil.rmtree('/content/trash-recyclable-classification/garbage_classification/shoes')"
      ],
      "metadata": {
        "id": "Xk95_Fn9uYnp"
      },
      "execution_count": null,
      "outputs": []
    },
    {
      "cell_type": "code",
      "source": [
        "# Second dataset Recyclable\n",
        "current_folder = r\"/content/trash-recyclable-classification/garbage_classification\"\n",
        "\n",
        "# list of folders to be merged\n",
        "list_dir = ['cardboard', 'paper', 'plastic', 'white-glass', 'green-glass', 'metal']\n",
        "\n",
        "# enumerate on list_dir to get the\n",
        "# content of all the folders ans store it in a dictionary\n",
        "content_list = {}\n",
        "for index, val in enumerate(list_dir):\n",
        "    path = os.path.join(current_folder, val)\n",
        "    content_list[ list_dir[index] ] = os.listdir(path)"
      ],
      "metadata": {
        "id": "ww7q732_uoib"
      },
      "execution_count": null,
      "outputs": []
    },
    {
      "cell_type": "code",
      "source": [
        "# loop through the list of folders: Recyclable (second dataset)\n",
        "for sub_dir in content_list:\n",
        "\n",
        "\t# loop through the contents of the\n",
        "\t# list of folders\n",
        "\tfor contents in content_list[sub_dir]:\n",
        "\n",
        "\t\t# make the path of the content to move\n",
        "\t\tpath_to_content = sub_dir + \"/\" + contents\n",
        "\n",
        "\t\t# make the path with the current folder\n",
        "\t\tdir_to_move = os.path.join(current_folder, path_to_content )\n",
        "\n",
        "\t\t# move the file\n",
        "\t\tshutil.move(dir_to_move, '/content/trash-recyclable-classification/garbage_classification/recyclable')"
      ],
      "metadata": {
        "id": "fd6LqTH0uqvd"
      },
      "execution_count": null,
      "outputs": []
    },
    {
      "cell_type": "code",
      "source": [
        "#delete old second dataset folders: cardboard, paper, plastic, white-glass, green-glass, metal\n",
        "shutil.rmtree('/content/trash-recyclable-classification/garbage_classification/cardboard')\n",
        "shutil.rmtree('/content/trash-recyclable-classification/garbage_classification/paper')\n",
        "shutil.rmtree('/content/trash-recyclable-classification/garbage_classification/plastic')\n",
        "shutil.rmtree('/content/trash-recyclable-classification/garbage_classification/white-glass')\n",
        "shutil.rmtree('/content/trash-recyclable-classification/garbage_classification/green-glass')\n",
        "shutil.rmtree('/content/trash-recyclable-classification/garbage_classification/metal')"
      ],
      "metadata": {
        "id": "EOIKwfvX3GbW"
      },
      "execution_count": null,
      "outputs": []
    },
    {
      "cell_type": "code",
      "source": [
        "#delete extra folders: battery, biological\n",
        "shutil.rmtree('/content/trash-recyclable-classification/garbage_classification/battery')\n",
        "shutil.rmtree('/content/trash-recyclable-classification/garbage_classification/biological')"
      ],
      "metadata": {
        "id": "usgNYwZO4Ck6"
      },
      "execution_count": null,
      "outputs": []
    },
    {
      "cell_type": "code",
      "source": [
        "#count items in each category: second dataset\n",
        "path = '/content/trash-recyclable-classification/garbage_classification'\n",
        "\n",
        "total = 0\n",
        "for sub_dir in os.listdir(path):\n",
        "    target_dir = path + '/' + sub_dir\n",
        "    files = os.listdir(target_dir)\n",
        "    count = len(files)\n",
        "    total += count\n",
        "    print(f'{sub_dir}: {count}')\n",
        "print(f'Total: {total}')"
      ],
      "metadata": {
        "id": "XZygRwuM4Oua"
      },
      "execution_count": null,
      "outputs": []
    },
    {
      "cell_type": "markdown",
      "source": [
        "**Classification between 2 classes**\n",
        "\n",
        "**1. Install Dependencies and Setup**"
      ],
      "metadata": {
        "id": "HMLnK3YKDcqy"
      }
    },
    {
      "cell_type": "code",
      "source": [
        "!pip install tensorflow tensorflow-gpu opencv-python matplotlib\n",
        "!pip list"
      ],
      "metadata": {
        "id": "vRP1NkkaDUBb"
      },
      "execution_count": null,
      "outputs": []
    },
    {
      "cell_type": "code",
      "source": [
        "import tensorflow as tf\n",
        "import os\n",
        "import numpy as np\n",
        "from matplotlib import pyplot as plt\n",
        "from tensorflow.keras.models import Sequential\n",
        "from tensorflow.keras.layers import Conv2D, MaxPooling2D, Dense, Flatten, Dropout\n",
        "from tensorflow.keras.metrics import Precision, Recall, BinaryAccuracy\n",
        "import cv2"
      ],
      "metadata": {
        "id": "KfQ2h3XmEHxr"
      },
      "execution_count": null,
      "outputs": []
    },
    {
      "cell_type": "markdown",
      "source": [
        "**2. Load Data**"
      ],
      "metadata": {
        "id": "SMnu_aauEP8n"
      }
    },
    {
      "cell_type": "code",
      "source": [
        "data = tf.keras.utils.image_dataset_from_directory('/content/trash-recyclable-classification/garbage_classification')"
      ],
      "metadata": {
        "id": "kk-NAqoUEL_h"
      },
      "execution_count": null,
      "outputs": []
    },
    {
      "cell_type": "code",
      "source": [
        "data_iterator = data.as_numpy_iterator()"
      ],
      "metadata": {
        "id": "a9mZCZqPEaHK"
      },
      "execution_count": null,
      "outputs": []
    },
    {
      "cell_type": "code",
      "source": [
        "batch = data_iterator.next()"
      ],
      "metadata": {
        "id": "vA4BwZlUEcj9"
      },
      "execution_count": null,
      "outputs": []
    },
    {
      "cell_type": "code",
      "source": [
        "#check classes\n",
        "\n",
        "fig, ax = plt.subplots(ncols=4, figsize=(20,20))\n",
        "for idx, img in enumerate(batch[0][:4]):\n",
        "    ax[idx].imshow(img.astype(int))\n",
        "    ax[idx].title.set_text(batch[1][idx])"
      ],
      "metadata": {
        "id": "uf3tolOjEdu7"
      },
      "execution_count": null,
      "outputs": []
    },
    {
      "cell_type": "markdown",
      "source": [
        "**3. Scale Data**"
      ],
      "metadata": {
        "id": "VV8vbrhgElUC"
      }
    },
    {
      "cell_type": "code",
      "source": [
        "data = data.map(lambda x,y: (x/255, y)) # image transformation, no transformation on y"
      ],
      "metadata": {
        "id": "lId0LaIAEnOe"
      },
      "execution_count": null,
      "outputs": []
    },
    {
      "cell_type": "code",
      "source": [
        "data.as_numpy_iterator().next()"
      ],
      "metadata": {
        "id": "HYYUlLGZEvQB"
      },
      "execution_count": null,
      "outputs": []
    },
    {
      "cell_type": "markdown",
      "source": [
        "**4. Split Data**"
      ],
      "metadata": {
        "id": "rtxLc7ZBE2nl"
      }
    },
    {
      "cell_type": "code",
      "source": [
        "len(data)"
      ],
      "metadata": {
        "id": "6xHD641_EyZE"
      },
      "execution_count": null,
      "outputs": []
    },
    {
      "cell_type": "code",
      "source": [
        "train_size = int(len(data)*.75)\n",
        "val_size = int(len(data)*.15)+1\n",
        "test_size = int(len(data)*.1)+1"
      ],
      "metadata": {
        "id": "vmInswBOE6yz"
      },
      "execution_count": null,
      "outputs": []
    },
    {
      "cell_type": "code",
      "source": [
        "train_size, val_size ,test_size"
      ],
      "metadata": {
        "id": "HPJaeZVbE9dY"
      },
      "execution_count": null,
      "outputs": []
    },
    {
      "cell_type": "code",
      "source": [
        "buffer_size = len(data) + 1\n",
        "\n",
        "# data = data.shuffle(buffer_size, reshuffle_each_iteration=True)\n",
        "\n",
        "data = data.shuffle(buffer_size, reshuffle_each_iteration=False)"
      ],
      "metadata": {
        "id": "Jvc0a3TTjPTW"
      },
      "execution_count": null,
      "outputs": []
    },
    {
      "cell_type": "code",
      "source": [
        "train = data.take(train_size)\n",
        "val = data.skip(train_size).take(val_size)\n",
        "test = data.skip(train_size+val_size).take(test_size)"
      ],
      "metadata": {
        "id": "SMNbHAQhFBZM"
      },
      "execution_count": null,
      "outputs": []
    },
    {
      "cell_type": "markdown",
      "source": [
        "**5. Build Model**"
      ],
      "metadata": {
        "id": "AWpevzkJFJUh"
      }
    },
    {
      "cell_type": "code",
      "source": [
        "model = Sequential()"
      ],
      "metadata": {
        "id": "puFj4TQ0FEMI"
      },
      "execution_count": null,
      "outputs": []
    },
    {
      "cell_type": "code",
      "source": [
        "# model.add(Conv2D(16, (3,3), 1, activation='relu', input_shape=(256,256,3)))\n",
        "# model.add(MaxPooling2D())\n",
        "\n",
        "# model.add(Conv2D(32, (3,3), 1, activation='relu'))\n",
        "# model.add(MaxPooling2D())\n",
        "\n",
        "# model.add(Conv2D(16, (3,3), 1, activation='relu'))\n",
        "# model.add(MaxPooling2D())\n",
        "\n",
        "# model.add(Flatten())\n",
        "\n",
        "# model.add(Dense(256, activation='relu'))\n",
        "# model.add(Dense(1, activation='sigmoid'))\n",
        "\n",
        "\n",
        "model.add(Conv2D(128, (3,3), 1, activation='relu', input_shape=(256,256,3)))\n",
        "model.add(MaxPooling2D())\n",
        "\n",
        "model.add(Conv2D(64, (3,3), 1, activation='relu'))\n",
        "model.add(MaxPooling2D())\n",
        "\n",
        "model.add(Conv2D(32, (3,3), 1, activation='relu'))\n",
        "model.add(MaxPooling2D())\n",
        "\n",
        "model.add(Flatten())\n",
        "\n",
        "model.add(Dense(256, activation='relu'))\n",
        "model.add(Dense(1, activation='sigmoid'))"
      ],
      "metadata": {
        "id": "2dxoMkJ2FUKP"
      },
      "execution_count": null,
      "outputs": []
    },
    {
      "cell_type": "code",
      "source": [
        "model.compile('adam', loss=tf.losses.BinaryCrossentropy(), metrics=['accuracy'])"
      ],
      "metadata": {
        "id": "nvZn7ralFW0W"
      },
      "execution_count": null,
      "outputs": []
    },
    {
      "cell_type": "code",
      "source": [
        "model.summary()"
      ],
      "metadata": {
        "id": "cJbgPkeAFZVw"
      },
      "execution_count": null,
      "outputs": []
    },
    {
      "cell_type": "markdown",
      "source": [
        "**6. Train**"
      ],
      "metadata": {
        "id": "CjMfX8JmFerH"
      }
    },
    {
      "cell_type": "code",
      "source": [
        "logdir='logs'\n",
        "tensorboard_callback = tf.keras.callbacks.TensorBoard(log_dir=logdir)"
      ],
      "metadata": {
        "id": "OA0XuM8cFoXB"
      },
      "execution_count": null,
      "outputs": []
    },
    {
      "cell_type": "code",
      "source": [
        "hist = model.fit(train, epochs=30, validation_data=val, callbacks=[tensorboard_callback])"
      ],
      "metadata": {
        "id": "D4j9UvYXFf4t"
      },
      "execution_count": null,
      "outputs": []
    },
    {
      "cell_type": "markdown",
      "source": [
        "Test\n"
      ],
      "metadata": {
        "id": "i7KVgash-JNa"
      }
    },
    {
      "cell_type": "code",
      "source": [
        "import cv2"
      ],
      "metadata": {
        "id": "Azv6WFZm-FK2"
      },
      "execution_count": null,
      "outputs": []
    },
    {
      "cell_type": "code",
      "source": [
        "img = cv2.imread('/content/trash-recyclable-classification/garbage_classification/trash/trash354.jpg')\n",
        "plt.imshow(img)\n",
        "plt.show()"
      ],
      "metadata": {
        "id": "XCEyAmAI-RpE",
        "outputId": "da5dc874-aa72-448e-a62e-36901e245fbf",
        "colab": {
          "base_uri": "https://localhost:8080/",
          "height": 435
        }
      },
      "execution_count": null,
      "outputs": [
        {
          "output_type": "display_data",
          "data": {
            "text/plain": [
              "<Figure size 640x480 with 1 Axes>"
            ],
            "image/png": "[encoded data removed]"
          },
          "metadata": {}
        }
      ]
    },
    {
      "cell_type": "code",
      "source": [
        "resize = tf.image.resize(img, (256,256))\n",
        "plt.imshow(resize.numpy().astype(int))\n",
        "plt.show()"
      ],
      "metadata": {
        "id": "rd3_3-YX-emu",
        "outputId": "02c2b45e-4304-4bf6-8c03-1107b987f687",
        "colab": {
          "base_uri": "https://localhost:8080/",
          "height": 435
        }
      },
      "execution_count": null,
      "outputs": [
        {
          "output_type": "display_data",
          "data": {
            "text/plain": [
              "<Figure size 640x480 with 1 Axes>"
            ],
            "image/png": "[encoded data removed]"
          },
          "metadata": {}
        }
      ]
    },
    {
      "cell_type": "code",
      "source": [
        "yhat = model.predict(np.expand_dims(resize/255, 0))"
      ],
      "metadata": {
        "id": "3YMwT1lK-feM",
        "outputId": "e02b113c-4607-4d54-df84-902e0ba84e06",
        "colab": {
          "base_uri": "https://localhost:8080/"
        }
      },
      "execution_count": null,
      "outputs": [
        {
          "output_type": "stream",
          "name": "stdout",
          "text": [
            "1/1 [==============================] - 0s 19ms/step\n"
          ]
        }
      ]
    },
    {
      "cell_type": "code",
      "source": [
        "yhat"
      ],
      "metadata": {
        "id": "eCoDEE_E-inf",
        "outputId": "81e22a92-6e22-433e-e048-7aa2a42eab51",
        "colab": {
          "base_uri": "https://localhost:8080/"
        }
      },
      "execution_count": null,
      "outputs": [
        {
          "output_type": "execute_result",
          "data": {
            "text/plain": [
              "array([[0.9736093]], dtype=float32)"
            ]
          },
          "metadata": {},
          "execution_count": 90
        }
      ]
    },
    {
      "cell_type": "code",
      "source": [
        "\n",
        "\n",
        "if yhat < 0.5:\n",
        "    print(f'Predicted class is recyclable')\n",
        "else:\n",
        "    print(f'Predicted class is trash')\n",
        "\n"
      ],
      "metadata": {
        "id": "Dmd9J8lp-lbI",
        "outputId": "3d55b649-892c-446c-b445-e67d27707afe",
        "colab": {
          "base_uri": "https://localhost:8080/"
        }
      },
      "execution_count": null,
      "outputs": [
        {
          "output_type": "stream",
          "name": "stdout",
          "text": [
            "Predicted class is trash\n"
          ]
        }
      ]
    },
    {
      "cell_type": "markdown",
      "source": [
        "**7. Model performance**"
      ],
      "metadata": {
        "id": "s40Mv0pIF0Lu"
      }
    },
    {
      "cell_type": "code",
      "source": [
        "fig = plt.figure()\n",
        "plt.plot(hist.history['loss'], color='teal', label='loss')\n",
        "plt.plot(hist.history['val_loss'], color='orange', label='val_loss')\n",
        "fig.suptitle('Loss', fontsize=20)\n",
        "plt.legend(loc=\"upper left\")\n",
        "plt.show()"
      ],
      "metadata": {
        "id": "ZFflUQIkFuch"
      },
      "execution_count": null,
      "outputs": []
    },
    {
      "cell_type": "code",
      "source": [
        "fig = plt.figure()\n",
        "plt.plot(hist.history['accuracy'], color='teal', label='accuracy')\n",
        "plt.plot(hist.history['val_accuracy'], color='orange', label='val_accuracy')\n",
        "fig.suptitle('Accuracy', fontsize=20)\n",
        "plt.legend(loc=\"upper left\")\n",
        "plt.show()"
      ],
      "metadata": {
        "id": "DwMnmawrF8Bi"
      },
      "execution_count": null,
      "outputs": []
    },
    {
      "cell_type": "code",
      "source": [
        "#Plotting training and validation accuracy, loss and learning rate\n",
        "train_accuracy = hist.history['accuracy']\n",
        "val_accuracy = hist.history['val_accuracy']\n",
        "\n",
        "train_loss = hist.history['loss']\n",
        "val_loss = hist.history['val_loss']\n",
        "\n",
        "\n",
        "fig, ax = plt.subplots(nrows=2, ncols=1, figsize=(12, 10))\n",
        "\n",
        "ax[0].set_title('Training Accuracy vs. Epochs')\n",
        "ax[0].plot(train_accuracy, 'o-', label='Train Accuracy')\n",
        "ax[0].plot(val_accuracy, 'o-', label='Validation Accuracy')\n",
        "ax[0].set_xlabel('Epochs')\n",
        "ax[0].set_ylabel('Accuracy')\n",
        "ax[0].legend(loc='best')\n",
        "\n",
        "ax[1].set_title('Training/Validation Loss vs. Epochs')\n",
        "ax[1].plot(train_loss, 'o-', label='Train Loss')\n",
        "ax[1].plot(val_loss, 'o-', label='Validation Loss')\n",
        "ax[1].set_xlabel('Epochs')\n",
        "ax[1].set_ylabel('Loss')\n",
        "ax[1].legend(loc='best')\n",
        "\n",
        "\n",
        "plt.tight_layout()\n",
        "plt.show()"
      ],
      "metadata": {
        "id": "60jiftHWikFj"
      },
      "execution_count": null,
      "outputs": []
    },
    {
      "cell_type": "markdown",
      "source": [
        "\n",
        "**8. Model evaluation**"
      ],
      "metadata": {
        "id": "1rgnF8XLF-ow"
      }
    },
    {
      "cell_type": "code",
      "source": [
        "pre = Precision()\n",
        "re = Recall()\n",
        "acc = BinaryAccuracy()"
      ],
      "metadata": {
        "id": "zXpwI6bUGHRn"
      },
      "execution_count": null,
      "outputs": []
    },
    {
      "cell_type": "code",
      "source": [
        "for batch in test.as_numpy_iterator():\n",
        "    X, y = batch\n",
        "    yhat = model.predict(X)\n",
        "    pre.update_state(y, yhat)\n",
        "    re.update_state(y, yhat)\n",
        "    acc.update_state(y, yhat)"
      ],
      "metadata": {
        "id": "eDUaMKEGGWTn"
      },
      "execution_count": null,
      "outputs": []
    },
    {
      "cell_type": "code",
      "source": [
        "print(pre.result(), re.result(), acc.result())"
      ],
      "metadata": {
        "id": "LLu11e84GYsP"
      },
      "execution_count": null,
      "outputs": []
    },
    {
      "cell_type": "code",
      "source": [
        "!pip install gradio"
      ],
      "metadata": {
        "id": "smJwGmXDXT_U"
      },
      "execution_count": null,
      "outputs": []
    },
    {
      "cell_type": "code",
      "source": [
        "prediction = labels[np.argmax('/content/train/trash/clothes2697.jpg')]\n",
        "print(labels)\n",
        "print(prediction)"
      ],
      "metadata": {
        "id": "gfgjPsFQbih1"
      },
      "execution_count": null,
      "outputs": []
    },
    {
      "cell_type": "code",
      "source": [
        "#Create User Interface using gradio\n",
        "import gradio as gr\n",
        "\n",
        "def recycle(input_img):\n",
        "  resize = tf.image.resize(input_img, (256,256))\n",
        "  plt.imshow(resize.numpy().astype(int))\n",
        "  yhat = model.predict(np.expand_dims(resize/255, 0))\n",
        "  if yhat < 0.5:\n",
        "    prediction = 'Predicted class is recyclable'\n",
        "  else:\n",
        "    prediction = 'Predicted class is trash'\n",
        "  return prediction\n",
        "\n",
        "irecycle = gr.Interface(\n",
        "    fn=recycle,\n",
        "    inputs=\"image\",\n",
        "    outputs= \"text\",\n",
        ")\n",
        "irecycle.launch(share=True)"
      ],
      "metadata": {
        "id": "uZLfC2ZAXUwR",
        "colab": {
          "base_uri": "https://localhost:8080/",
          "height": 591
        },
        "outputId": "abb1db3e-e04e-4928-c739-6e316fdb3bda"
      },
      "execution_count": null,
      "outputs": [
        {
          "output_type": "stream",
          "name": "stdout",
          "text": [
            "Colab notebook detected. To show errors in colab notebook, set debug=True in launch()\n",
            "Running on public URL: https://4839d55b14d5796d44.gradio.live\n",
            "\n",
            "This share link expires in 72 hours. For free permanent hosting and GPU upgrades (NEW!), check out Spaces: https://huggingface.co/spaces\n"
          ]
        },
        {
          "output_type": "display_data",
          "data": {
            "text/plain": [
              "<IPython.core.display.HTML object>"
            ],
            "text/html": [
              "<div><iframe src=\"https://4839d55b14d5796d44.gradio.live\" width=\"100%\" height=\"500\" allow=\"autoplay; camera; microphone; clipboard-read; clipboard-write;\" frameborder=\"0\" allowfullscreen></iframe></div>"
            ]
          },
          "metadata": {}
        },
        {
          "output_type": "execute_result",
          "data": {
            "text/plain": []
          },
          "metadata": {},
          "execution_count": 86
        }
      ]
    }
  ]
}